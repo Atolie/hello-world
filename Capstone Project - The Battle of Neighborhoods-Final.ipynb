{
 "cells": [
  {
   "cell_type": "markdown",
   "metadata": {},
   "source": [
    "# Capstone Project - The Battle of Neighborhoods"
   ]
  },
  {
   "cell_type": "markdown",
   "metadata": {},
   "source": [
    "## 1.0 Introduction/Problem Statement"
   ]
  },
  {
   "cell_type": "markdown",
   "metadata": {},
   "source": [
    "According to the 2010 census, New York City has the largest population of African-born residents with 233,000 people, mostly from Nigeria, Egypt, Ghana, Ethiopia, Morocco, Kenya, South Africa, Somalia, Sierra Leone, and Sudan. Besides these residents, thousands of tourists frequently visit New York City, prior COVID-19 (it is expected to continue at the same pace when things normalize). Although Africans love to cook in their homes and eat their local delicacies, they find it challenging to find restaurants where they can eat local foods when they go out, go to work, or on vacation. The purpose of this project is to visualize African restaurants in New York City to make it easy for both African residents and tourists to locate. Additionally, this project will provide information about (1) the best rated African restaurant(s) in New York City, (2) the areas with more concentration of African restaurants, and (3) the areas with a few or no African Restaurants."
   ]
  },
  {
   "cell_type": "markdown",
   "metadata": {},
   "source": [
    "## 2.0 Data"
   ]
  },
  {
   "cell_type": "markdown",
   "metadata": {},
   "source": [
    "1.\thttps://cocl.us/new_york_dataset: This is a data source from New York City containing the list of boroughs and neighborhoods with their latitudes and longitudes.\n",
    "2.\tFoursquare API: The API will provide the location information of African restaurants\n",
    "3.\thttps://data.cityofnewyork.us/City-Government/Borough-Boundaries/tqmj-j8zm: The data source has the borough boundaries information, which is expected to provide visualization of these boundaries.\n"
   ]
  },
  {
   "cell_type": "markdown",
   "metadata": {},
   "source": [
    "## 3.0 Methodology"
   ]
  },
  {
   "cell_type": "markdown",
   "metadata": {},
   "source": [
    "The data sets were collected from the data sources mentioned above in the Data section. The data source from New York City contains the list of boroughs, neighborhoods, and their geographical coordinates – https://cocl.us/new_york_dataset. The locations of African restaurants using Foursquare API and the visualization of the borough boundaries using https://data.cityofnewyork.us/City-Government/Borough-Boundaries/tqmj-j8zm. The restaurants will be analyzed and sorted using their ratings and will be visualized and ranked based on these ratings. The visualization of the neighborhoods will be achieved using folium library with Python. The data analysis and results will be done with Python programming using the Jupyter Notebook platform."
   ]
  },
  {
   "cell_type": "markdown",
   "metadata": {},
   "source": [
    "## 4.0 Data analysis and results"
   ]
  },
  {
   "cell_type": "code",
   "execution_count": 2,
   "metadata": {},
   "outputs": [
    {
     "name": "stdout",
     "output_type": "stream",
     "text": [
      "Collecting geocoder\n",
      "  Downloading https://files.pythonhosted.org/packages/4f/6b/13166c909ad2f2d76b929a4227c952630ebaf0d729f6317eb09cbceccbab/geocoder-1.38.1-py2.py3-none-any.whl (98kB)\n",
      "Requirement already satisfied: requests in c:\\users\\aa1316\\appdata\\local\\continuum\\anaconda3\\lib\\site-packages (from geocoder) (2.22.0)\n",
      "Requirement already satisfied: six in c:\\users\\aa1316\\appdata\\local\\continuum\\anaconda3\\lib\\site-packages (from geocoder) (1.13.0)\n",
      "Requirement already satisfied: future in c:\\users\\aa1316\\appdata\\local\\continuum\\anaconda3\\lib\\site-packages (from geocoder) (0.18.2)\n",
      "Requirement already satisfied: click in c:\\users\\aa1316\\appdata\\local\\continuum\\anaconda3\\lib\\site-packages (from geocoder) (7.0)\n",
      "Collecting ratelim\n",
      "  Downloading https://files.pythonhosted.org/packages/f2/98/7e6d147fd16a10a5f821db6e25f192265d6ecca3d82957a4fdd592cad49c/ratelim-0.1.6-py2.py3-none-any.whl\n",
      "Requirement already satisfied: idna<2.9,>=2.5 in c:\\users\\aa1316\\appdata\\local\\continuum\\anaconda3\\lib\\site-packages (from requests->geocoder) (2.8)\n",
      "Requirement already satisfied: certifi>=2017.4.17 in c:\\users\\aa1316\\appdata\\local\\continuum\\anaconda3\\lib\\site-packages (from requests->geocoder) (2020.4.5.1)\n",
      "Requirement already satisfied: chardet<3.1.0,>=3.0.2 in c:\\users\\aa1316\\appdata\\local\\continuum\\anaconda3\\lib\\site-packages (from requests->geocoder) (3.0.4)\n",
      "Requirement already satisfied: urllib3!=1.25.0,!=1.25.1,<1.26,>=1.21.1 in c:\\users\\aa1316\\appdata\\local\\continuum\\anaconda3\\lib\\site-packages (from requests->geocoder) (1.25.7)\n",
      "Requirement already satisfied: decorator in c:\\users\\aa1316\\appdata\\local\\continuum\\anaconda3\\lib\\site-packages (from ratelim->geocoder) (4.4.1)\n",
      "Installing collected packages: ratelim, geocoder\n",
      "Successfully installed geocoder-1.38.1 ratelim-0.1.6\n",
      "Note: you may need to restart the kernel to use updated packages.\n"
     ]
    }
   ],
   "source": [
    "pip install geocoders"
   ]
  },
  {
   "cell_type": "code",
   "execution_count": 11,
   "metadata": {},
   "outputs": [],
   "source": [
    "# import libraries:\n",
    "\n",
    "from bs4 import BeautifulSoup\n",
    "import requests\n",
    "import pandas as pd\n",
    "import numpy as np\n",
    "pd.set_option('display.max_columns', None)\n",
    "pd.set_option('display.max_rows', None)\n",
    "import geocoder\n",
    "import os\n",
    "import folium # this will create the map of New York City\n",
    "from geopy.geocoders import Nominatim\n",
    "\n",
    "# import Matplotlib modules:\n",
    "\n",
    "import matplotlib.pyplot as plt\n",
    "import matplotlib.cm as cm\n",
    "import matplotlib.colors as colors\n",
    "%matplotlib inline"
   ]
  },
  {
   "cell_type": "code",
   "execution_count": 12,
   "metadata": {},
   "outputs": [
    {
     "name": "stdout",
     "output_type": "stream",
     "text": [
      "Your credentails:\n",
      "CLIENT_ID: T3FCOB1I5G4VHT5FL2AVLU1NS4UAFEIPYKZ5SKXASFCW0WUQ\n",
      "CLIENT_SECRET:2JV2WADCDANLSHT0LUKZ5CJF2L0OOYGZ2DRVTPI12YPTTUL4\n"
     ]
    }
   ],
   "source": [
    "CLIENT_ID = \"T3FCOB1I5G4VHT5FL2AVLU1NS4UAFEIPYKZ5SKXASFCW0WUQ\"\n",
    "CLIENT_SECRET = \"2JV2WADCDANLSHT0LUKZ5CJF2L0OOYGZ2DRVTPI12YPTTUL4\"\n",
    "VERSION = '20200525'\n",
    "LIMIT = 100\n",
    "print('Your credentails:')\n",
    "print('CLIENT_ID: ' + CLIENT_ID)\n",
    "print('CLIENT_SECRET:' + CLIENT_SECRET)"
   ]
  },
  {
   "cell_type": "code",
   "execution_count": 13,
   "metadata": {},
   "outputs": [],
   "source": [
    "# define and obtain geo-location addresses\n",
    "\n",
    "def geo_location(addr):\n",
    "    geolocator = Nominatim(user_agent=\"newyork_explorer\")\n",
    "    location = geolocator.geocode(addr)\n",
    "    latitude = location.latitude\n",
    "    longitude = location.longitude\n",
    "    return latitude, longitude"
   ]
  },
  {
   "cell_type": "code",
   "execution_count": 14,
   "metadata": {},
   "outputs": [],
   "source": [
    "# define and obtain locations from Foursquare API - within 1000m and at least 100 locations.\n",
    "\n",
    "def get_venues(lat,lng):\n",
    "    \n",
    "    #set variables\n",
    "    radius=1000\n",
    "    url = 'https://api.foursquare.com/v2/venues/explore?&client_id={}&client_secret={}&v={}&ll={},{}&radius={}&limit={}'.format(\n",
    "            CLIENT_ID, \n",
    "            CLIENT_SECRET, \n",
    "            VERSION, \n",
    "            lat, \n",
    "            lng, \n",
    "            radius, \n",
    "            LIMIT)\n",
    "    \n",
    "    results = requests.get(url).json()\n",
    "    venue_data=results[\"response\"]['groups'][0]['items']\n",
    "    venue_details=[]\n",
    "    for row in venue_data:\n",
    "        try:\n",
    "            venue_id=row['venue']['id']\n",
    "            venue_name=row['venue']['name']\n",
    "            venue_category=row['venue']['categories'][0]['name']\n",
    "            venue_details.append([venue_id,venue_name,venue_category])\n",
    "        except KeyError:\n",
    "            pass\n",
    "        \n",
    "    column_names=['ID','Name','Category']\n",
    "    df = pd.DataFrame(venue_details,columns=column_names)\n",
    "    return df"
   ]
  },
  {
   "cell_type": "code",
   "execution_count": 15,
   "metadata": {},
   "outputs": [],
   "source": [
    "# define and obtain the details of the locations via Foursquare API\n",
    "\n",
    "def get_venue_details(venue_id):\n",
    "        \n",
    "    url = 'https://api.foursquare.com/v2/venues/{}?&client_id={}&client_secret={}&v={}'.format(\n",
    "            venue_id,\n",
    "            CLIENT_ID, \n",
    "            CLIENT_SECRET, \n",
    "            VERSION)\n",
    "    \n",
    "    results = requests.get(url).json()\n",
    "    venue_data=results['response']['venue']\n",
    "    venue_details=[]\n",
    "    try:\n",
    "        venue_id=venue_data['id']\n",
    "        venue_name=venue_data['name']\n",
    "        venue_likes=venue_data['likes']['count']\n",
    "        venue_rating=venue_data['rating']\n",
    "        venue_tips=venue_data['tips']['count']\n",
    "        venue_details.append([venue_id,venue_name,venue_likes,venue_rating,venue_tips])\n",
    "    except KeyError:\n",
    "        pass\n",
    "        \n",
    "    column_names=['ID','Name','Likes','Rating','Tips']\n",
    "    df = pd.DataFrame(venue_details,columns=column_names)\n",
    "    return df"
   ]
  },
  {
   "cell_type": "code",
   "execution_count": 16,
   "metadata": {},
   "outputs": [],
   "source": [
    "# define and obtain New York City boroughs, neighborhood and their coordinates\n",
    "\n",
    "def get_new_york_data():\n",
    "    url='https://cocl.us/new_york_dataset'\n",
    "    resp=requests.get(url).json()\n",
    "    # all data is present in features label\n",
    "    features=resp['features']\n",
    "    \n",
    "    # define the dataframe columns\n",
    "    column_names = ['Borough', 'Neighborhood', 'Latitude', 'Longitude'] \n",
    "    # instantiate the dataframe\n",
    "    new_york_data = pd.DataFrame(columns=column_names)\n",
    "    \n",
    "    for data in features:\n",
    "        borough = data['properties']['borough'] \n",
    "        neighborhood_name = data['properties']['name']\n",
    "        \n",
    "        neighborhood_coord = data['geometry']['coordinates']\n",
    "        neighborhood_lat = neighborhood_coord[1]\n",
    "        neighborhood_lon = neighborhood_coord[0]\n",
    "    \n",
    "        new_york_data = new_york_data.append({'Borough': borough,\n",
    "                                          'Neighborhood': neighborhood_name,\n",
    "                                          'Latitude': neighborhood_lat,\n",
    "                                          'Longitude': neighborhood_lon}, ignore_index=True)\n",
    "    \n",
    "    return new_york_data"
   ]
  },
  {
   "cell_type": "code",
   "execution_count": 17,
   "metadata": {},
   "outputs": [
    {
     "data": {
      "text/html": [
       "<div>\n",
       "<style scoped>\n",
       "    .dataframe tbody tr th:only-of-type {\n",
       "        vertical-align: middle;\n",
       "    }\n",
       "\n",
       "    .dataframe tbody tr th {\n",
       "        vertical-align: top;\n",
       "    }\n",
       "\n",
       "    .dataframe thead th {\n",
       "        text-align: right;\n",
       "    }\n",
       "</style>\n",
       "<table border=\"1\" class=\"dataframe\">\n",
       "  <thead>\n",
       "    <tr style=\"text-align: right;\">\n",
       "      <th></th>\n",
       "      <th>Borough</th>\n",
       "      <th>Neighborhood</th>\n",
       "      <th>Latitude</th>\n",
       "      <th>Longitude</th>\n",
       "    </tr>\n",
       "  </thead>\n",
       "  <tbody>\n",
       "    <tr>\n",
       "      <th>0</th>\n",
       "      <td>Bronx</td>\n",
       "      <td>Wakefield</td>\n",
       "      <td>40.894705</td>\n",
       "      <td>-73.847201</td>\n",
       "    </tr>\n",
       "    <tr>\n",
       "      <th>1</th>\n",
       "      <td>Bronx</td>\n",
       "      <td>Co-op City</td>\n",
       "      <td>40.874294</td>\n",
       "      <td>-73.829939</td>\n",
       "    </tr>\n",
       "    <tr>\n",
       "      <th>2</th>\n",
       "      <td>Bronx</td>\n",
       "      <td>Eastchester</td>\n",
       "      <td>40.887556</td>\n",
       "      <td>-73.827806</td>\n",
       "    </tr>\n",
       "    <tr>\n",
       "      <th>3</th>\n",
       "      <td>Bronx</td>\n",
       "      <td>Fieldston</td>\n",
       "      <td>40.895437</td>\n",
       "      <td>-73.905643</td>\n",
       "    </tr>\n",
       "    <tr>\n",
       "      <th>4</th>\n",
       "      <td>Bronx</td>\n",
       "      <td>Riverdale</td>\n",
       "      <td>40.890834</td>\n",
       "      <td>-73.912585</td>\n",
       "    </tr>\n",
       "  </tbody>\n",
       "</table>\n",
       "</div>"
      ],
      "text/plain": [
       "  Borough Neighborhood   Latitude  Longitude\n",
       "0   Bronx    Wakefield  40.894705 -73.847201\n",
       "1   Bronx   Co-op City  40.874294 -73.829939\n",
       "2   Bronx  Eastchester  40.887556 -73.827806\n",
       "3   Bronx    Fieldston  40.895437 -73.905643\n",
       "4   Bronx    Riverdale  40.890834 -73.912585"
      ]
     },
     "execution_count": 17,
     "metadata": {},
     "output_type": "execute_result"
    }
   ],
   "source": [
    "# get New York City data\n",
    "\n",
    "new_york_data=get_new_york_data()\n",
    "new_york_data.head()"
   ]
  },
  {
   "cell_type": "code",
   "execution_count": 18,
   "metadata": {},
   "outputs": [
    {
     "data": {
      "text/plain": [
       "(306, 4)"
      ]
     },
     "execution_count": 18,
     "metadata": {},
     "output_type": "execute_result"
    }
   ],
   "source": [
    "# get the total number of neighborhoods in New York City\n",
    "\n",
    "new_york_data.shape"
   ]
  },
  {
   "cell_type": "markdown",
   "metadata": {},
   "source": [
    "### Output 17 shows the first five neighborhoods with their borough and coordinates.\n",
    "### Output 18 shows that their are a total of 306 neighborhoods in New York City."
   ]
  },
  {
   "cell_type": "code",
   "execution_count": 19,
   "metadata": {},
   "outputs": [
    {
     "data": {
      "image/png": "[encoded data removed]",
      "text/plain": [
       "<Figure size 800x400 with 1 Axes>"
      ]
     },
     "metadata": {
      "needs_background": "light"
     },
     "output_type": "display_data"
    }
   ],
   "source": [
    "# Plot of a bar chart to show the number of neighborhood per borough\n",
    "\n",
    "plt.figure(figsize=(10,5), dpi = 80)\n",
    "plt.title('Number of New York City Neighborhoods per Borough')\n",
    "plt.xlabel('Borough', fontsize = 12)\n",
    "plt.ylabel('Number of Neighborhood', fontsize=12)\n",
    "new_york_data.groupby('Borough')['Neighborhood'].count().plot(kind='bar', color='green')\n",
    "plt.legend()\n",
    "\n",
    "plt.show()"
   ]
  },
  {
   "cell_type": "markdown",
   "metadata": {},
   "source": [
    "### The chart shows that there are 5 boroughs and Queens has the most number of neighborhoods while Manhattan has the least number of neighborhoods."
   ]
  },
  {
   "cell_type": "code",
   "execution_count": 20,
   "metadata": {},
   "outputs": [
    {
     "name": "stdout",
     "output_type": "stream",
     "text": [
      "( 1 of 306 ) African Restaurants in Wakefield, Bronx:0\n",
      "( 2 of 306 ) African Restaurants in Co-op City, Bronx:0\n",
      "( 3 of 306 ) African Restaurants in Eastchester, Bronx:0\n",
      "( 4 of 306 ) African Restaurants in Fieldston, Bronx:0\n",
      "( 5 of 306 ) African Restaurants in Riverdale, Bronx:0\n",
      "( 6 of 306 ) African Restaurants in Kingsbridge, Bronx:0\n",
      "( 7 of 306 ) African Restaurants in Marble Hill, Manhattan:0\n",
      "( 8 of 306 ) African Restaurants in Woodlawn, Bronx:0\n",
      "( 9 of 306 ) African Restaurants in Norwood, Bronx:0\n",
      "( 10 of 306 ) African Restaurants in Williamsbridge, Bronx:0\n",
      "( 11 of 306 ) African Restaurants in Baychester, Bronx:0\n",
      "( 12 of 306 ) African Restaurants in Pelham Parkway, Bronx:0\n",
      "( 13 of 306 ) African Restaurants in City Island, Bronx:0\n",
      "( 14 of 306 ) African Restaurants in Bedford Park, Bronx:0\n",
      "( 15 of 306 ) African Restaurants in University Heights, Bronx:2\n",
      "( 16 of 306 ) African Restaurants in Morris Heights, Bronx:0\n",
      "( 17 of 306 ) African Restaurants in Fordham, Bronx:1\n",
      "( 18 of 306 ) African Restaurants in East Tremont, Bronx:0\n",
      "( 19 of 306 ) African Restaurants in West Farms, Bronx:0\n",
      "( 20 of 306 ) African Restaurants in High  Bridge, Bronx:0\n",
      "( 21 of 306 ) African Restaurants in Melrose, Bronx:0\n",
      "( 22 of 306 ) African Restaurants in Mott Haven, Bronx:0\n",
      "( 23 of 306 ) African Restaurants in Port Morris, Bronx:0\n",
      "( 24 of 306 ) African Restaurants in Longwood, Bronx:0\n",
      "( 25 of 306 ) African Restaurants in Hunts Point, Bronx:0\n",
      "( 26 of 306 ) African Restaurants in Morrisania, Bronx:0\n",
      "( 27 of 306 ) African Restaurants in Soundview, Bronx:0\n",
      "( 28 of 306 ) African Restaurants in Clason Point, Bronx:0\n",
      "( 29 of 306 ) African Restaurants in Throgs Neck, Bronx:0\n",
      "( 30 of 306 ) African Restaurants in Country Club, Bronx:0\n",
      "( 31 of 306 ) African Restaurants in Parkchester, Bronx:0\n",
      "( 32 of 306 ) African Restaurants in Westchester Square, Bronx:0\n",
      "( 33 of 306 ) African Restaurants in Van Nest, Bronx:0\n",
      "( 34 of 306 ) African Restaurants in Morris Park, Bronx:0\n",
      "( 35 of 306 ) African Restaurants in Belmont, Bronx:1\n",
      "( 36 of 306 ) African Restaurants in Spuyten Duyvil, Bronx:0\n",
      "( 37 of 306 ) African Restaurants in North Riverdale, Bronx:0\n",
      "( 38 of 306 ) African Restaurants in Pelham Bay, Bronx:0\n",
      "( 39 of 306 ) African Restaurants in Schuylerville, Bronx:0\n",
      "( 40 of 306 ) African Restaurants in Edgewater Park, Bronx:0\n",
      "( 41 of 306 ) African Restaurants in Castle Hill, Bronx:0\n",
      "( 42 of 306 ) African Restaurants in Olinville, Bronx:0\n",
      "( 43 of 306 ) African Restaurants in Pelham Gardens, Bronx:0\n",
      "( 44 of 306 ) African Restaurants in Concourse, Bronx:0\n",
      "( 45 of 306 ) African Restaurants in Unionport, Bronx:0\n",
      "( 46 of 306 ) African Restaurants in Edenwald, Bronx:0\n",
      "( 47 of 306 ) African Restaurants in Bay Ridge, Brooklyn:0\n",
      "( 48 of 306 ) African Restaurants in Bensonhurst, Brooklyn:0\n",
      "( 49 of 306 ) African Restaurants in Sunset Park, Brooklyn:0\n",
      "( 50 of 306 ) African Restaurants in Greenpoint, Brooklyn:0\n",
      "( 51 of 306 ) African Restaurants in Gravesend, Brooklyn:0\n",
      "( 52 of 306 ) African Restaurants in Brighton Beach, Brooklyn:0\n",
      "( 53 of 306 ) African Restaurants in Sheepshead Bay, Brooklyn:0\n",
      "( 54 of 306 ) African Restaurants in Manhattan Terrace, Brooklyn:0\n",
      "( 55 of 306 ) African Restaurants in Flatbush, Brooklyn:0\n",
      "( 56 of 306 ) African Restaurants in Crown Heights, Brooklyn:1\n",
      "( 57 of 306 ) African Restaurants in East Flatbush, Brooklyn:0\n",
      "( 58 of 306 ) African Restaurants in Kensington, Brooklyn:0\n",
      "( 59 of 306 ) African Restaurants in Windsor Terrace, Brooklyn:0\n",
      "( 60 of 306 ) African Restaurants in Prospect Heights, Brooklyn:0\n",
      "( 61 of 306 ) African Restaurants in Brownsville, Brooklyn:0\n",
      "( 62 of 306 ) African Restaurants in Williamsburg, Brooklyn:0\n",
      "( 63 of 306 ) African Restaurants in Bushwick, Brooklyn:0\n",
      "( 64 of 306 ) African Restaurants in Bedford Stuyvesant, Brooklyn:0\n",
      "( 65 of 306 ) African Restaurants in Brooklyn Heights, Brooklyn:0\n",
      "( 66 of 306 ) African Restaurants in Cobble Hill, Brooklyn:0\n",
      "( 67 of 306 ) African Restaurants in Carroll Gardens, Brooklyn:0\n",
      "( 68 of 306 ) African Restaurants in Red Hook, Brooklyn:0\n",
      "( 69 of 306 ) African Restaurants in Gowanus, Brooklyn:0\n",
      "( 70 of 306 ) African Restaurants in Fort Greene, Brooklyn:0\n",
      "( 71 of 306 ) African Restaurants in Park Slope, Brooklyn:0\n",
      "( 72 of 306 ) African Restaurants in Cypress Hills, Brooklyn:0\n",
      "( 73 of 306 ) African Restaurants in East New York, Brooklyn:0\n",
      "( 74 of 306 ) African Restaurants in Starrett City, Brooklyn:0\n",
      "( 75 of 306 ) African Restaurants in Canarsie, Brooklyn:0\n",
      "( 76 of 306 ) African Restaurants in Flatlands, Brooklyn:0\n",
      "( 77 of 306 ) African Restaurants in Mill Island, Brooklyn:0\n",
      "( 78 of 306 ) African Restaurants in Manhattan Beach, Brooklyn:0\n",
      "( 79 of 306 ) African Restaurants in Coney Island, Brooklyn:0\n",
      "( 80 of 306 ) African Restaurants in Bath Beach, Brooklyn:0\n",
      "( 81 of 306 ) African Restaurants in Borough Park, Brooklyn:0\n",
      "( 82 of 306 ) African Restaurants in Dyker Heights, Brooklyn:0\n",
      "( 83 of 306 ) African Restaurants in Gerritsen Beach, Brooklyn:0\n",
      "( 84 of 306 ) African Restaurants in Marine Park, Brooklyn:0\n",
      "( 85 of 306 ) African Restaurants in Clinton Hill, Brooklyn:0\n",
      "( 86 of 306 ) African Restaurants in Sea Gate, Brooklyn:0\n",
      "( 87 of 306 ) African Restaurants in Downtown, Brooklyn:0\n",
      "( 88 of 306 ) African Restaurants in Boerum Hill, Brooklyn:0\n",
      "( 89 of 306 ) African Restaurants in Prospect Lefferts Gardens, Brooklyn:0\n",
      "( 90 of 306 ) African Restaurants in Ocean Hill, Brooklyn:0\n",
      "( 91 of 306 ) African Restaurants in City Line, Brooklyn:0\n",
      "( 92 of 306 ) African Restaurants in Bergen Beach, Brooklyn:0\n",
      "( 93 of 306 ) African Restaurants in Midwood, Brooklyn:0\n",
      "( 94 of 306 ) African Restaurants in Prospect Park South, Brooklyn:0\n",
      "( 95 of 306 ) African Restaurants in Georgetown, Brooklyn:0\n",
      "( 96 of 306 ) African Restaurants in East Williamsburg, Brooklyn:0\n",
      "( 97 of 306 ) African Restaurants in North Side, Brooklyn:0\n",
      "( 98 of 306 ) African Restaurants in South Side, Brooklyn:0\n",
      "( 99 of 306 ) African Restaurants in Ocean Parkway, Brooklyn:0\n",
      "( 100 of 306 ) African Restaurants in Fort Hamilton, Brooklyn:0\n",
      "( 101 of 306 ) African Restaurants in Chinatown, Manhattan:0\n",
      "( 102 of 306 ) African Restaurants in Washington Heights, Manhattan:0\n",
      "( 103 of 306 ) African Restaurants in Inwood, Manhattan:0\n",
      "( 104 of 306 ) African Restaurants in Hamilton Heights, Manhattan:1\n",
      "( 105 of 306 ) African Restaurants in Manhattanville, Manhattan:0\n",
      "( 106 of 306 ) African Restaurants in Central Harlem, Manhattan:4\n",
      "( 107 of 306 ) African Restaurants in East Harlem, Manhattan:1\n",
      "( 108 of 306 ) African Restaurants in Upper East Side, Manhattan:0\n",
      "( 109 of 306 ) African Restaurants in Yorkville, Manhattan:0\n",
      "( 110 of 306 ) African Restaurants in Lenox Hill, Manhattan:0\n",
      "( 111 of 306 ) African Restaurants in Roosevelt Island, Manhattan:0\n",
      "( 112 of 306 ) African Restaurants in Upper West Side, Manhattan:0\n",
      "( 113 of 306 ) African Restaurants in Lincoln Square, Manhattan:0\n",
      "( 114 of 306 ) African Restaurants in Clinton, Manhattan:0\n",
      "( 115 of 306 ) African Restaurants in Midtown, Manhattan:0\n",
      "( 116 of 306 ) African Restaurants in Murray Hill, Manhattan:0\n",
      "( 117 of 306 ) African Restaurants in Chelsea, Manhattan:0\n",
      "( 118 of 306 ) African Restaurants in Greenwich Village, Manhattan:0\n",
      "( 119 of 306 ) African Restaurants in East Village, Manhattan:0\n",
      "( 120 of 306 ) African Restaurants in Lower East Side, Manhattan:0\n",
      "( 121 of 306 ) African Restaurants in Tribeca, Manhattan:0\n",
      "( 122 of 306 ) African Restaurants in Little Italy, Manhattan:0\n",
      "( 123 of 306 ) African Restaurants in Soho, Manhattan:0\n",
      "( 124 of 306 ) African Restaurants in West Village, Manhattan:0\n",
      "( 125 of 306 ) African Restaurants in Manhattan Valley, Manhattan:0\n",
      "( 126 of 306 ) African Restaurants in Morningside Heights, Manhattan:0\n",
      "( 127 of 306 ) African Restaurants in Gramercy, Manhattan:0\n",
      "( 128 of 306 ) African Restaurants in Battery Park City, Manhattan:0\n",
      "( 129 of 306 ) African Restaurants in Financial District, Manhattan:0\n",
      "( 130 of 306 ) African Restaurants in Astoria, Queens:0\n",
      "( 131 of 306 ) African Restaurants in Woodside, Queens:0\n",
      "( 132 of 306 ) African Restaurants in Jackson Heights, Queens:0\n",
      "( 133 of 306 ) African Restaurants in Elmhurst, Queens:0\n",
      "( 134 of 306 ) African Restaurants in Howard Beach, Queens:0\n",
      "( 135 of 306 ) African Restaurants in Corona, Queens:0\n"
     ]
    },
    {
     "name": "stdout",
     "output_type": "stream",
     "text": [
      "( 136 of 306 ) African Restaurants in Forest Hills, Queens:0\n",
      "( 137 of 306 ) African Restaurants in Kew Gardens, Queens:0\n",
      "( 138 of 306 ) African Restaurants in Richmond Hill, Queens:0\n",
      "( 139 of 306 ) African Restaurants in Flushing, Queens:0\n",
      "( 140 of 306 ) African Restaurants in Long Island City, Queens:0\n",
      "( 141 of 306 ) African Restaurants in Sunnyside, Queens:0\n",
      "( 142 of 306 ) African Restaurants in East Elmhurst, Queens:0\n",
      "( 143 of 306 ) African Restaurants in Maspeth, Queens:0\n",
      "( 144 of 306 ) African Restaurants in Ridgewood, Queens:0\n",
      "( 145 of 306 ) African Restaurants in Glendale, Queens:0\n",
      "( 146 of 306 ) African Restaurants in Rego Park, Queens:0\n",
      "( 147 of 306 ) African Restaurants in Woodhaven, Queens:0\n",
      "( 148 of 306 ) African Restaurants in Ozone Park, Queens:0\n",
      "( 149 of 306 ) African Restaurants in South Ozone Park, Queens:0\n",
      "( 150 of 306 ) African Restaurants in College Point, Queens:0\n",
      "( 151 of 306 ) African Restaurants in Whitestone, Queens:0\n",
      "( 152 of 306 ) African Restaurants in Bayside, Queens:0\n",
      "( 153 of 306 ) African Restaurants in Auburndale, Queens:0\n",
      "( 154 of 306 ) African Restaurants in Little Neck, Queens:0\n",
      "( 155 of 306 ) African Restaurants in Douglaston, Queens:0\n",
      "( 156 of 306 ) African Restaurants in Glen Oaks, Queens:0\n",
      "( 157 of 306 ) African Restaurants in Bellerose, Queens:0\n",
      "( 158 of 306 ) African Restaurants in Kew Gardens Hills, Queens:0\n",
      "( 159 of 306 ) African Restaurants in Fresh Meadows, Queens:0\n",
      "( 160 of 306 ) African Restaurants in Briarwood, Queens:0\n",
      "( 161 of 306 ) African Restaurants in Jamaica Center, Queens:0\n",
      "( 162 of 306 ) African Restaurants in Oakland Gardens, Queens:0\n",
      "( 163 of 306 ) African Restaurants in Queens Village, Queens:0\n",
      "( 164 of 306 ) African Restaurants in Hollis, Queens:0\n",
      "( 165 of 306 ) African Restaurants in South Jamaica, Queens:0\n",
      "( 166 of 306 ) African Restaurants in St. Albans, Queens:0\n",
      "( 167 of 306 ) African Restaurants in Rochdale, Queens:0\n",
      "( 168 of 306 ) African Restaurants in Springfield Gardens, Queens:0\n",
      "( 169 of 306 ) African Restaurants in Cambria Heights, Queens:0\n",
      "( 170 of 306 ) African Restaurants in Rosedale, Queens:0\n",
      "( 171 of 306 ) African Restaurants in Far Rockaway, Queens:0\n",
      "( 172 of 306 ) African Restaurants in Broad Channel, Queens:0\n",
      "( 173 of 306 ) African Restaurants in Breezy Point, Queens:0\n",
      "( 174 of 306 ) African Restaurants in Steinway, Queens:0\n",
      "( 175 of 306 ) African Restaurants in Beechhurst, Queens:0\n",
      "( 176 of 306 ) African Restaurants in Bay Terrace, Queens:0\n",
      "( 177 of 306 ) African Restaurants in Edgemere, Queens:0\n",
      "( 178 of 306 ) African Restaurants in Arverne, Queens:0\n",
      "( 179 of 306 ) African Restaurants in Rockaway Beach, Queens:0\n",
      "( 180 of 306 ) African Restaurants in Neponsit, Queens:0\n",
      "( 181 of 306 ) African Restaurants in Murray Hill, Queens:0\n",
      "( 182 of 306 ) African Restaurants in Floral Park, Queens:0\n",
      "( 183 of 306 ) African Restaurants in Holliswood, Queens:0\n",
      "( 184 of 306 ) African Restaurants in Jamaica Estates, Queens:0\n",
      "( 185 of 306 ) African Restaurants in Queensboro Hill, Queens:0\n",
      "( 186 of 306 ) African Restaurants in Hillcrest, Queens:0\n",
      "( 187 of 306 ) African Restaurants in Ravenswood, Queens:0\n",
      "( 188 of 306 ) African Restaurants in Lindenwood, Queens:0\n",
      "( 189 of 306 ) African Restaurants in Laurelton, Queens:0\n",
      "( 190 of 306 ) African Restaurants in Lefrak City, Queens:0\n",
      "( 191 of 306 ) African Restaurants in Belle Harbor, Queens:0\n",
      "( 192 of 306 ) African Restaurants in Rockaway Park, Queens:0\n",
      "( 193 of 306 ) African Restaurants in Somerville, Queens:0\n",
      "( 194 of 306 ) African Restaurants in Brookville, Queens:0\n",
      "( 195 of 306 ) African Restaurants in Bellaire, Queens:0\n",
      "( 196 of 306 ) African Restaurants in North Corona, Queens:0\n",
      "( 197 of 306 ) African Restaurants in Forest Hills Gardens, Queens:0\n",
      "( 198 of 306 ) African Restaurants in St. George, Staten Island:0\n",
      "( 199 of 306 ) African Restaurants in New Brighton, Staten Island:0\n",
      "( 200 of 306 ) African Restaurants in Stapleton, Staten Island:0\n",
      "( 201 of 306 ) African Restaurants in Rosebank, Staten Island:0\n",
      "( 202 of 306 ) African Restaurants in West Brighton, Staten Island:0\n",
      "( 203 of 306 ) African Restaurants in Grymes Hill, Staten Island:0\n",
      "( 204 of 306 ) African Restaurants in Todt Hill, Staten Island:0\n",
      "( 205 of 306 ) African Restaurants in South Beach, Staten Island:0\n",
      "( 206 of 306 ) African Restaurants in Port Richmond, Staten Island:0\n",
      "( 207 of 306 ) African Restaurants in Mariner's Harbor, Staten Island:0\n",
      "( 208 of 306 ) African Restaurants in Port Ivory, Staten Island:0\n",
      "( 209 of 306 ) African Restaurants in Castleton Corners, Staten Island:0\n",
      "( 210 of 306 ) African Restaurants in New Springville, Staten Island:0\n",
      "( 211 of 306 ) African Restaurants in Travis, Staten Island:0\n",
      "( 212 of 306 ) African Restaurants in New Dorp, Staten Island:0\n",
      "( 213 of 306 ) African Restaurants in Oakwood, Staten Island:0\n",
      "( 214 of 306 ) African Restaurants in Great Kills, Staten Island:0\n",
      "( 215 of 306 ) African Restaurants in Eltingville, Staten Island:0\n",
      "( 216 of 306 ) African Restaurants in Annadale, Staten Island:0\n",
      "( 217 of 306 ) African Restaurants in Woodrow, Staten Island:0\n",
      "( 218 of 306 ) African Restaurants in Tottenville, Staten Island:0\n",
      "( 219 of 306 ) African Restaurants in Tompkinsville, Staten Island:0\n",
      "( 220 of 306 ) African Restaurants in Silver Lake, Staten Island:0\n",
      "( 221 of 306 ) African Restaurants in Sunnyside, Staten Island:0\n",
      "( 222 of 306 ) African Restaurants in Ditmas Park, Brooklyn:0\n",
      "( 223 of 306 ) African Restaurants in Wingate, Brooklyn:0\n",
      "( 224 of 306 ) African Restaurants in Rugby, Brooklyn:0\n",
      "( 225 of 306 ) African Restaurants in Park Hill, Staten Island:0\n",
      "( 226 of 306 ) African Restaurants in Westerleigh, Staten Island:0\n",
      "( 227 of 306 ) African Restaurants in Graniteville, Staten Island:0\n",
      "( 228 of 306 ) African Restaurants in Arlington, Staten Island:0\n",
      "( 229 of 306 ) African Restaurants in Arrochar, Staten Island:0\n",
      "( 230 of 306 ) African Restaurants in Grasmere, Staten Island:0\n",
      "( 231 of 306 ) African Restaurants in Old Town, Staten Island:0\n",
      "( 232 of 306 ) African Restaurants in Dongan Hills, Staten Island:0\n",
      "( 233 of 306 ) African Restaurants in Midland Beach, Staten Island:0\n",
      "( 234 of 306 ) African Restaurants in Grant City, Staten Island:0\n",
      "( 235 of 306 ) African Restaurants in New Dorp Beach, Staten Island:0\n",
      "( 236 of 306 ) African Restaurants in Bay Terrace, Staten Island:0\n",
      "( 237 of 306 ) African Restaurants in Huguenot, Staten Island:0\n",
      "( 238 of 306 ) African Restaurants in Pleasant Plains, Staten Island:0\n",
      "( 239 of 306 ) African Restaurants in Butler Manor, Staten Island:0\n",
      "( 240 of 306 ) African Restaurants in Charleston, Staten Island:0\n",
      "( 241 of 306 ) African Restaurants in Rossville, Staten Island:0\n",
      "( 242 of 306 ) African Restaurants in Arden Heights, Staten Island:0\n",
      "( 243 of 306 ) African Restaurants in Greenridge, Staten Island:0\n",
      "( 244 of 306 ) African Restaurants in Heartland Village, Staten Island:0\n",
      "( 245 of 306 ) African Restaurants in Chelsea, Staten Island:0\n",
      "( 246 of 306 ) African Restaurants in Bloomfield, Staten Island:0\n",
      "( 247 of 306 ) African Restaurants in Bulls Head, Staten Island:0\n",
      "( 248 of 306 ) African Restaurants in Carnegie Hill, Manhattan:0\n",
      "( 249 of 306 ) African Restaurants in Noho, Manhattan:0\n",
      "( 250 of 306 ) African Restaurants in Civic Center, Manhattan:0\n",
      "( 251 of 306 ) African Restaurants in Midtown South, Manhattan:0\n",
      "( 252 of 306 ) African Restaurants in Richmond Town, Staten Island:0\n",
      "( 253 of 306 ) African Restaurants in Shore Acres, Staten Island:0\n",
      "( 254 of 306 ) African Restaurants in Clifton, Staten Island:0\n",
      "( 255 of 306 ) African Restaurants in Concord, Staten Island:0\n",
      "( 256 of 306 ) African Restaurants in Emerson Hill, Staten Island:0\n",
      "( 257 of 306 ) African Restaurants in Randall Manor, Staten Island:0\n",
      "( 258 of 306 ) African Restaurants in Howland Hook, Staten Island:0\n",
      "( 259 of 306 ) African Restaurants in Elm Park, Staten Island:0\n",
      "( 260 of 306 ) African Restaurants in Remsen Village, Brooklyn:0\n",
      "( 261 of 306 ) African Restaurants in New Lots, Brooklyn:0\n",
      "( 262 of 306 ) African Restaurants in Paerdegat Basin, Brooklyn:0\n",
      "( 263 of 306 ) African Restaurants in Mill Basin, Brooklyn:0\n",
      "( 264 of 306 ) African Restaurants in Jamaica Hills, Queens:0\n",
      "( 265 of 306 ) African Restaurants in Utopia, Queens:0\n",
      "( 266 of 306 ) African Restaurants in Pomonok, Queens:0\n"
     ]
    },
    {
     "name": "stdout",
     "output_type": "stream",
     "text": [
      "( 267 of 306 ) African Restaurants in Astoria Heights, Queens:0\n",
      "( 268 of 306 ) African Restaurants in Claremont Village, Bronx:0\n",
      "( 269 of 306 ) African Restaurants in Concourse Village, Bronx:0\n",
      "( 270 of 306 ) African Restaurants in Mount Eden, Bronx:0\n",
      "( 271 of 306 ) African Restaurants in Mount Hope, Bronx:1\n",
      "( 272 of 306 ) African Restaurants in Sutton Place, Manhattan:0\n",
      "( 273 of 306 ) African Restaurants in Hunters Point, Queens:0\n",
      "( 274 of 306 ) African Restaurants in Turtle Bay, Manhattan:0\n",
      "( 275 of 306 ) African Restaurants in Tudor City, Manhattan:0\n",
      "( 276 of 306 ) African Restaurants in Stuyvesant Town, Manhattan:0\n",
      "( 277 of 306 ) African Restaurants in Flatiron, Manhattan:0\n",
      "( 278 of 306 ) African Restaurants in Sunnyside Gardens, Queens:0\n",
      "( 279 of 306 ) African Restaurants in Blissville, Queens:0\n",
      "( 280 of 306 ) African Restaurants in Fulton Ferry, Brooklyn:0\n",
      "( 281 of 306 ) African Restaurants in Vinegar Hill, Brooklyn:0\n",
      "( 282 of 306 ) African Restaurants in Weeksville, Brooklyn:0\n",
      "( 283 of 306 ) African Restaurants in Broadway Junction, Brooklyn:0\n",
      "( 284 of 306 ) African Restaurants in Dumbo, Brooklyn:0\n",
      "( 285 of 306 ) African Restaurants in Manor Heights, Staten Island:0\n",
      "( 286 of 306 ) African Restaurants in Willowbrook, Staten Island:0\n",
      "( 287 of 306 ) African Restaurants in Sandy Ground, Staten Island:0\n",
      "( 288 of 306 ) African Restaurants in Egbertville, Staten Island:0\n",
      "( 289 of 306 ) African Restaurants in Roxbury, Queens:0\n",
      "( 290 of 306 ) African Restaurants in Homecrest, Brooklyn:0\n",
      "( 291 of 306 ) African Restaurants in Middle Village, Queens:0\n",
      "( 292 of 306 ) African Restaurants in Prince's Bay, Staten Island:0\n",
      "( 293 of 306 ) African Restaurants in Lighthouse Hill, Staten Island:0\n",
      "( 294 of 306 ) African Restaurants in Richmond Valley, Staten Island:0\n",
      "( 295 of 306 ) African Restaurants in Malba, Queens:0\n",
      "( 296 of 306 ) African Restaurants in Highland Park, Brooklyn:1\n",
      "( 297 of 306 ) African Restaurants in Madison, Brooklyn:0\n",
      "( 298 of 306 ) African Restaurants in Bronxdale, Bronx:0\n",
      "( 299 of 306 ) African Restaurants in Allerton, Bronx:0\n",
      "( 300 of 306 ) African Restaurants in Kingsbridge Heights, Bronx:0\n",
      "( 301 of 306 ) African Restaurants in Erasmus, Brooklyn:0\n",
      "( 302 of 306 ) African Restaurants in Hudson Yards, Manhattan:0\n",
      "( 303 of 306 ) African Restaurants in Hammels, Queens:0\n",
      "( 304 of 306 ) African Restaurants in Bayswater, Queens:0\n",
      "( 305 of 306 ) African Restaurants in Queensbridge, Queens:0\n",
      "( 306 of 306 ) African Restaurants in Fox Hills, Staten Island:0\n"
     ]
    }
   ],
   "source": [
    "# Obtain the information of African restaurants per neighborhood\n",
    "\n",
    "column_names=['Borough', 'Neighborhood', 'ID','Name']\n",
    "african_rest_ny=pd.DataFrame(columns=column_names)\n",
    "count=1\n",
    "for row in new_york_data.values.tolist():\n",
    "    Borough, Neighborhood, Latitude, Longitude=row\n",
    "    venues = get_venues(Latitude,Longitude)\n",
    "    african_restaurants=venues[venues['Category']=='African Restaurant']   \n",
    "    print('(',count,'of',len(new_york_data),')','African Restaurants in '+Neighborhood+', '+Borough+':'+str(len(african_restaurants)))\n",
    "    for restaurant_detail in african_restaurants.values.tolist():\n",
    "        id, name , category=restaurant_detail\n",
    "        african_rest_ny = african_rest_ny.append({'Borough': Borough,\n",
    "                                                'Neighborhood': Neighborhood, \n",
    "                                                'ID': id,\n",
    "                                                'Name' : name\n",
    "                                               }, ignore_index=True)\n",
    "    count+=1"
   ]
  },
  {
   "cell_type": "code",
   "execution_count": 21,
   "metadata": {},
   "outputs": [
    {
     "data": {
      "text/html": [
       "<div>\n",
       "<style scoped>\n",
       "    .dataframe tbody tr th:only-of-type {\n",
       "        vertical-align: middle;\n",
       "    }\n",
       "\n",
       "    .dataframe tbody tr th {\n",
       "        vertical-align: top;\n",
       "    }\n",
       "\n",
       "    .dataframe thead th {\n",
       "        text-align: right;\n",
       "    }\n",
       "</style>\n",
       "<table border=\"1\" class=\"dataframe\">\n",
       "  <thead>\n",
       "    <tr style=\"text-align: right;\">\n",
       "      <th></th>\n",
       "      <th>Borough</th>\n",
       "      <th>Neighborhood</th>\n",
       "      <th>ID</th>\n",
       "      <th>Name</th>\n",
       "    </tr>\n",
       "  </thead>\n",
       "  <tbody>\n",
       "    <tr>\n",
       "      <th>0</th>\n",
       "      <td>Bronx</td>\n",
       "      <td>University Heights</td>\n",
       "      <td>4c2f8b1b7cc0c9b6a1eaeb9a</td>\n",
       "      <td>Accra Resturant</td>\n",
       "    </tr>\n",
       "    <tr>\n",
       "      <th>1</th>\n",
       "      <td>Bronx</td>\n",
       "      <td>University Heights</td>\n",
       "      <td>4cb2beaadedbef3bca7c9d40</td>\n",
       "      <td>Papaye Restaurant</td>\n",
       "    </tr>\n",
       "    <tr>\n",
       "      <th>2</th>\n",
       "      <td>Bronx</td>\n",
       "      <td>Fordham</td>\n",
       "      <td>4cb2beaadedbef3bca7c9d40</td>\n",
       "      <td>Papaye Restaurant</td>\n",
       "    </tr>\n",
       "    <tr>\n",
       "      <th>3</th>\n",
       "      <td>Bronx</td>\n",
       "      <td>Belmont</td>\n",
       "      <td>4cb2beaadedbef3bca7c9d40</td>\n",
       "      <td>Papaye Restaurant</td>\n",
       "    </tr>\n",
       "    <tr>\n",
       "      <th>4</th>\n",
       "      <td>Brooklyn</td>\n",
       "      <td>Crown Heights</td>\n",
       "      <td>51d4d2cc454a777ed5a76c57</td>\n",
       "      <td>Cafe Rue Dix</td>\n",
       "    </tr>\n",
       "  </tbody>\n",
       "</table>\n",
       "</div>"
      ],
      "text/plain": [
       "    Borough        Neighborhood                        ID               Name\n",
       "0     Bronx  University Heights  4c2f8b1b7cc0c9b6a1eaeb9a    Accra Resturant\n",
       "1     Bronx  University Heights  4cb2beaadedbef3bca7c9d40  Papaye Restaurant\n",
       "2     Bronx             Fordham  4cb2beaadedbef3bca7c9d40  Papaye Restaurant\n",
       "3     Bronx             Belmont  4cb2beaadedbef3bca7c9d40  Papaye Restaurant\n",
       "4  Brooklyn       Crown Heights  51d4d2cc454a777ed5a76c57       Cafe Rue Dix"
      ]
     },
     "execution_count": 21,
     "metadata": {},
     "output_type": "execute_result"
    }
   ],
   "source": [
    "# African restaurants' analysis\n",
    "\n",
    "african_rest_ny.head()"
   ]
  },
  {
   "cell_type": "code",
   "execution_count": 22,
   "metadata": {},
   "outputs": [
    {
     "data": {
      "text/plain": [
       "(13, 4)"
      ]
     },
     "execution_count": 22,
     "metadata": {},
     "output_type": "execute_result"
    }
   ],
   "source": [
    "african_rest_ny.shape"
   ]
  },
  {
   "cell_type": "markdown",
   "metadata": {},
   "source": [
    "###  Output 21 shows the first five African Restaurants\n",
    "###  Output 22 shows that there are only 13 African Restaurants obtained via the Foursquare API"
   ]
  },
  {
   "cell_type": "code",
   "execution_count": 23,
   "metadata": {},
   "outputs": [
    {
     "data": {
      "image/png": "[encoded data removed]",
      "text/plain": [
       "<Figure size 1000x500 with 1 Axes>"
      ]
     },
     "metadata": {
      "needs_background": "light"
     },
     "output_type": "display_data"
    }
   ],
   "source": [
    "# Plot of a bar chart to show the number of African Restaurants per Borough\n",
    "\n",
    "plt.figure(figsize=(10,5), dpi = 100)\n",
    "plt.title('Number of African Restaurants per Borough in New York City')\n",
    "plt.xlabel('Borough', fontsize = 12)\n",
    "plt.ylabel('Number of African Resturants', fontsize=12)\n",
    "african_rest_ny.groupby('Borough')['ID'].count().plot(kind='bar', color = 'green')\n",
    "plt.legend()\n",
    "\n",
    "plt.show()"
   ]
  },
  {
   "cell_type": "markdown",
   "metadata": {},
   "source": [
    "###  The above result shows that:\n",
    "1. Manhattan has the largest number of African restaurant, with a total of six (6) restaurants,\n",
    "2. Bronx has the 2nd largest number of African restaurant, with a total of five (5) restaurants,\n",
    "3. Brookly has only 2  African restaurants, and\n",
    "4. Queens and Staten Island has no African Restaurants."
   ]
  },
  {
   "cell_type": "code",
   "execution_count": 24,
   "metadata": {},
   "outputs": [
    {
     "data": {
      "image/png": "[encoded data removed]",
      "text/plain": [
       "<Figure size 1000x500 with 1 Axes>"
      ]
     },
     "metadata": {
      "needs_background": "light"
     },
     "output_type": "display_data"
    }
   ],
   "source": [
    "# Plot of a bar chart to show the number of African Restaurants per Neighborhood\n",
    "\n",
    "plt.figure(figsize=(10,5), dpi = 100)\n",
    "plt.title('Number of African Resturants for each Neighborhood in New York City')\n",
    "plt.xlabel('Neighborhood', fontsize = 12)\n",
    "plt.ylabel('Number of African Restaurants', fontsize=12)\n",
    "african_rest_ny.groupby('Neighborhood')['ID'].count().plot(kind='bar', color = 'green')\n",
    "plt.legend()\n",
    "\n",
    "plt.show()"
   ]
  },
  {
   "cell_type": "markdown",
   "metadata": {},
   "source": [
    "### The above result shows that:\n",
    "1. Only nine out of 306 neighborhoods in New York City has African Restaurants,\n",
    "2. Central Harlem has the largest number of African restaurant, with a total of six (4) restaurants"
   ]
  },
  {
   "cell_type": "code",
   "execution_count": 25,
   "metadata": {},
   "outputs": [
    {
     "data": {
      "text/html": [
       "<div>\n",
       "<style scoped>\n",
       "    .dataframe tbody tr th:only-of-type {\n",
       "        vertical-align: middle;\n",
       "    }\n",
       "\n",
       "    .dataframe tbody tr th {\n",
       "        vertical-align: top;\n",
       "    }\n",
       "\n",
       "    .dataframe thead th {\n",
       "        text-align: right;\n",
       "    }\n",
       "</style>\n",
       "<table border=\"1\" class=\"dataframe\">\n",
       "  <thead>\n",
       "    <tr style=\"text-align: right;\">\n",
       "      <th></th>\n",
       "      <th>Borough</th>\n",
       "      <th>Neighborhood</th>\n",
       "      <th>ID</th>\n",
       "      <th>Name</th>\n",
       "    </tr>\n",
       "  </thead>\n",
       "  <tbody>\n",
       "    <tr>\n",
       "      <th>6</th>\n",
       "      <td>Manhattan</td>\n",
       "      <td>Central Harlem</td>\n",
       "      <td>53e01975498e78c0915599bf</td>\n",
       "      <td>Ponty Bistro Harlem</td>\n",
       "    </tr>\n",
       "    <tr>\n",
       "      <th>7</th>\n",
       "      <td>Manhattan</td>\n",
       "      <td>Central Harlem</td>\n",
       "      <td>4c2fdced452620a120551e0f</td>\n",
       "      <td>Keur Sokhna</td>\n",
       "    </tr>\n",
       "    <tr>\n",
       "      <th>8</th>\n",
       "      <td>Manhattan</td>\n",
       "      <td>Central Harlem</td>\n",
       "      <td>4a9ea132f964a520ad3a20e3</td>\n",
       "      <td>Africa Kine Restaurant</td>\n",
       "    </tr>\n",
       "    <tr>\n",
       "      <th>9</th>\n",
       "      <td>Manhattan</td>\n",
       "      <td>Central Harlem</td>\n",
       "      <td>5004a9e5e4b034c2950659fd</td>\n",
       "      <td>Les Ambassades Senegalais Bistro</td>\n",
       "    </tr>\n",
       "  </tbody>\n",
       "</table>\n",
       "</div>"
      ],
      "text/plain": [
       "     Borough    Neighborhood                        ID  \\\n",
       "6  Manhattan  Central Harlem  53e01975498e78c0915599bf   \n",
       "7  Manhattan  Central Harlem  4c2fdced452620a120551e0f   \n",
       "8  Manhattan  Central Harlem  4a9ea132f964a520ad3a20e3   \n",
       "9  Manhattan  Central Harlem  5004a9e5e4b034c2950659fd   \n",
       "\n",
       "                               Name  \n",
       "6               Ponty Bistro Harlem  \n",
       "7                       Keur Sokhna  \n",
       "8            Africa Kine Restaurant  \n",
       "9  Les Ambassades Senegalais Bistro  "
      ]
     },
     "execution_count": 25,
     "metadata": {},
     "output_type": "execute_result"
    }
   ],
   "source": [
    "# Show all the restaurants in Central Harlem\n",
    "\n",
    "african_rest_ny[african_rest_ny['Neighborhood']=='Central Harlem']"
   ]
  },
  {
   "cell_type": "code",
   "execution_count": 26,
   "metadata": {},
   "outputs": [
    {
     "name": "stdout",
     "output_type": "stream",
     "text": [
      "                         ID             Name  Likes  Rating  Tips\n",
      "0  4c2f8b1b7cc0c9b6a1eaeb9a  Accra Resturant      9     7.3     3\n",
      "( 1 of 13 ) processed\n",
      "                         ID               Name  Likes  Rating  Tips\n",
      "0  4cb2beaadedbef3bca7c9d40  Papaye Restaurant     11     7.5     3\n",
      "( 2 of 13 ) processed\n",
      "                         ID               Name  Likes  Rating  Tips\n",
      "0  4cb2beaadedbef3bca7c9d40  Papaye Restaurant     11     7.5     3\n",
      "( 3 of 13 ) processed\n",
      "                         ID               Name  Likes  Rating  Tips\n",
      "0  4cb2beaadedbef3bca7c9d40  Papaye Restaurant     11     7.5     3\n",
      "( 4 of 13 ) processed\n",
      "                         ID          Name  Likes  Rating  Tips\n",
      "0  51d4d2cc454a777ed5a76c57  Cafe Rue Dix    201     8.4    59\n",
      "( 5 of 13 ) processed\n",
      "                         ID                 Name  Likes  Rating  Tips\n",
      "0  53e01975498e78c0915599bf  Ponty Bistro Harlem    105     8.6    30\n",
      "( 6 of 13 ) processed\n",
      "                         ID                 Name  Likes  Rating  Tips\n",
      "0  53e01975498e78c0915599bf  Ponty Bistro Harlem    105     8.6    30\n",
      "( 7 of 13 ) processed\n",
      "                         ID         Name  Likes  Rating  Tips\n",
      "0  4c2fdced452620a120551e0f  Keur Sokhna     12     7.8     8\n",
      "( 8 of 13 ) processed\n",
      "                         ID                    Name  Likes  Rating  Tips\n",
      "0  4a9ea132f964a520ad3a20e3  Africa Kine Restaurant     35     7.0    33\n",
      "( 9 of 13 ) processed\n",
      "                         ID                              Name  Likes  Rating  \\\n",
      "0  5004a9e5e4b034c2950659fd  Les Ambassades Senegalais Bistro     26     7.6   \n",
      "\n",
      "   Tips  \n",
      "0    11  \n",
      "( 10 of 13 ) processed\n",
      "                         ID     Name  Likes  Rating  Tips\n",
      "0  5b855d2da0215b002c09d9fa  Teranga     14     8.6     6\n",
      "( 11 of 13 ) processed\n",
      "                         ID             Name  Likes  Rating  Tips\n",
      "0  4c2f8b1b7cc0c9b6a1eaeb9a  Accra Resturant      9     7.3     3\n",
      "( 12 of 13 ) processed\n",
      "                         ID          Name  Likes  Rating  Tips\n",
      "0  4b1eefb3f964a520c72124e3  Festac Grill      9     6.0    11\n",
      "( 13 of 13 ) processed\n"
     ]
    }
   ],
   "source": [
    "# Create a list of neighborhoods with African restaurants\n",
    "\n",
    "column_names=['Borough', 'Neighborhood', 'ID','Name','Likes','Rating','Tips']\n",
    "african_rest_stats_ny=pd.DataFrame(columns=column_names)\n",
    "count=1\n",
    "\n",
    "for row in african_rest_ny.values.tolist():\n",
    "    Borough,Neighborhood,ID,Name=row\n",
    "    try:\n",
    "        venue_details=get_venue_details(ID)\n",
    "        print(venue_details)\n",
    "        id,name,likes,rating,tips=venue_details.values.tolist()[0]\n",
    "    except IndexError:\n",
    "        print('No data available for id=',ID)\n",
    "        id,name,likes,rating,tips=[0]*5\n",
    "    print('(',count,'of',len(african_rest_ny),')','processed')\n",
    "    african_rest_stats_ny = african_rest_stats_ny.append({'Borough': Borough,\n",
    "                                                'Neighborhood': Neighborhood, \n",
    "                                                'ID': id,\n",
    "                                                'Name' : name,\n",
    "                                                'Likes' : likes,\n",
    "                                                'Rating' : rating,\n",
    "                                                'Tips' : tips\n",
    "                                               }, ignore_index=True)\n",
    "    count+=1"
   ]
  },
  {
   "cell_type": "code",
   "execution_count": 27,
   "metadata": {},
   "outputs": [
    {
     "data": {
      "text/html": [
       "<div>\n",
       "<style scoped>\n",
       "    .dataframe tbody tr th:only-of-type {\n",
       "        vertical-align: middle;\n",
       "    }\n",
       "\n",
       "    .dataframe tbody tr th {\n",
       "        vertical-align: top;\n",
       "    }\n",
       "\n",
       "    .dataframe thead th {\n",
       "        text-align: right;\n",
       "    }\n",
       "</style>\n",
       "<table border=\"1\" class=\"dataframe\">\n",
       "  <thead>\n",
       "    <tr style=\"text-align: right;\">\n",
       "      <th></th>\n",
       "      <th>Borough</th>\n",
       "      <th>Neighborhood</th>\n",
       "      <th>ID</th>\n",
       "      <th>Name</th>\n",
       "      <th>Likes</th>\n",
       "      <th>Rating</th>\n",
       "      <th>Tips</th>\n",
       "    </tr>\n",
       "  </thead>\n",
       "  <tbody>\n",
       "    <tr>\n",
       "      <th>0</th>\n",
       "      <td>Bronx</td>\n",
       "      <td>University Heights</td>\n",
       "      <td>4c2f8b1b7cc0c9b6a1eaeb9a</td>\n",
       "      <td>Accra Resturant</td>\n",
       "      <td>9</td>\n",
       "      <td>7.3</td>\n",
       "      <td>3</td>\n",
       "    </tr>\n",
       "    <tr>\n",
       "      <th>1</th>\n",
       "      <td>Bronx</td>\n",
       "      <td>University Heights</td>\n",
       "      <td>4cb2beaadedbef3bca7c9d40</td>\n",
       "      <td>Papaye Restaurant</td>\n",
       "      <td>11</td>\n",
       "      <td>7.5</td>\n",
       "      <td>3</td>\n",
       "    </tr>\n",
       "    <tr>\n",
       "      <th>2</th>\n",
       "      <td>Bronx</td>\n",
       "      <td>Fordham</td>\n",
       "      <td>4cb2beaadedbef3bca7c9d40</td>\n",
       "      <td>Papaye Restaurant</td>\n",
       "      <td>11</td>\n",
       "      <td>7.5</td>\n",
       "      <td>3</td>\n",
       "    </tr>\n",
       "    <tr>\n",
       "      <th>3</th>\n",
       "      <td>Bronx</td>\n",
       "      <td>Belmont</td>\n",
       "      <td>4cb2beaadedbef3bca7c9d40</td>\n",
       "      <td>Papaye Restaurant</td>\n",
       "      <td>11</td>\n",
       "      <td>7.5</td>\n",
       "      <td>3</td>\n",
       "    </tr>\n",
       "    <tr>\n",
       "      <th>4</th>\n",
       "      <td>Brooklyn</td>\n",
       "      <td>Crown Heights</td>\n",
       "      <td>51d4d2cc454a777ed5a76c57</td>\n",
       "      <td>Cafe Rue Dix</td>\n",
       "      <td>201</td>\n",
       "      <td>8.4</td>\n",
       "      <td>59</td>\n",
       "    </tr>\n",
       "  </tbody>\n",
       "</table>\n",
       "</div>"
      ],
      "text/plain": [
       "    Borough        Neighborhood                        ID               Name  \\\n",
       "0     Bronx  University Heights  4c2f8b1b7cc0c9b6a1eaeb9a    Accra Resturant   \n",
       "1     Bronx  University Heights  4cb2beaadedbef3bca7c9d40  Papaye Restaurant   \n",
       "2     Bronx             Fordham  4cb2beaadedbef3bca7c9d40  Papaye Restaurant   \n",
       "3     Bronx             Belmont  4cb2beaadedbef3bca7c9d40  Papaye Restaurant   \n",
       "4  Brooklyn       Crown Heights  51d4d2cc454a777ed5a76c57       Cafe Rue Dix   \n",
       "\n",
       "  Likes  Rating Tips  \n",
       "0     9     7.3    3  \n",
       "1    11     7.5    3  \n",
       "2    11     7.5    3  \n",
       "3    11     7.5    3  \n",
       "4   201     8.4   59  "
      ]
     },
     "execution_count": 27,
     "metadata": {},
     "output_type": "execute_result"
    }
   ],
   "source": [
    "african_rest_stats_ny.head()"
   ]
  },
  {
   "cell_type": "code",
   "execution_count": 28,
   "metadata": {},
   "outputs": [
    {
     "data": {
      "text/plain": [
       "(13, 7)"
      ]
     },
     "execution_count": 28,
     "metadata": {},
     "output_type": "execute_result"
    }
   ],
   "source": [
    "african_rest_stats_ny.shape"
   ]
  },
  {
   "cell_type": "code",
   "execution_count": 29,
   "metadata": {},
   "outputs": [],
   "source": [
    "# Save the above data in CSV and verify the data from the CSV file\n",
    "\n",
    "african_rest_stats_ny.to_csv('african_rest_stats_ny.csv', index=False)"
   ]
  },
  {
   "cell_type": "code",
   "execution_count": 30,
   "metadata": {},
   "outputs": [],
   "source": [
    "african_rest_stats_ny_csv=pd.read_csv('african_rest_stats_ny.csv') # verify"
   ]
  },
  {
   "cell_type": "code",
   "execution_count": 31,
   "metadata": {},
   "outputs": [
    {
     "data": {
      "text/html": [
       "<div>\n",
       "<style scoped>\n",
       "    .dataframe tbody tr th:only-of-type {\n",
       "        vertical-align: middle;\n",
       "    }\n",
       "\n",
       "    .dataframe tbody tr th {\n",
       "        vertical-align: top;\n",
       "    }\n",
       "\n",
       "    .dataframe thead th {\n",
       "        text-align: right;\n",
       "    }\n",
       "</style>\n",
       "<table border=\"1\" class=\"dataframe\">\n",
       "  <thead>\n",
       "    <tr style=\"text-align: right;\">\n",
       "      <th></th>\n",
       "      <th>Borough</th>\n",
       "      <th>Neighborhood</th>\n",
       "      <th>ID</th>\n",
       "      <th>Name</th>\n",
       "      <th>Likes</th>\n",
       "      <th>Rating</th>\n",
       "      <th>Tips</th>\n",
       "    </tr>\n",
       "  </thead>\n",
       "  <tbody>\n",
       "    <tr>\n",
       "      <th>0</th>\n",
       "      <td>Bronx</td>\n",
       "      <td>University Heights</td>\n",
       "      <td>4c2f8b1b7cc0c9b6a1eaeb9a</td>\n",
       "      <td>Accra Resturant</td>\n",
       "      <td>9</td>\n",
       "      <td>7.3</td>\n",
       "      <td>3</td>\n",
       "    </tr>\n",
       "    <tr>\n",
       "      <th>1</th>\n",
       "      <td>Bronx</td>\n",
       "      <td>University Heights</td>\n",
       "      <td>4cb2beaadedbef3bca7c9d40</td>\n",
       "      <td>Papaye Restaurant</td>\n",
       "      <td>11</td>\n",
       "      <td>7.5</td>\n",
       "      <td>3</td>\n",
       "    </tr>\n",
       "    <tr>\n",
       "      <th>2</th>\n",
       "      <td>Bronx</td>\n",
       "      <td>Fordham</td>\n",
       "      <td>4cb2beaadedbef3bca7c9d40</td>\n",
       "      <td>Papaye Restaurant</td>\n",
       "      <td>11</td>\n",
       "      <td>7.5</td>\n",
       "      <td>3</td>\n",
       "    </tr>\n",
       "    <tr>\n",
       "      <th>3</th>\n",
       "      <td>Bronx</td>\n",
       "      <td>Belmont</td>\n",
       "      <td>4cb2beaadedbef3bca7c9d40</td>\n",
       "      <td>Papaye Restaurant</td>\n",
       "      <td>11</td>\n",
       "      <td>7.5</td>\n",
       "      <td>3</td>\n",
       "    </tr>\n",
       "    <tr>\n",
       "      <th>4</th>\n",
       "      <td>Brooklyn</td>\n",
       "      <td>Crown Heights</td>\n",
       "      <td>51d4d2cc454a777ed5a76c57</td>\n",
       "      <td>Cafe Rue Dix</td>\n",
       "      <td>201</td>\n",
       "      <td>8.4</td>\n",
       "      <td>59</td>\n",
       "    </tr>\n",
       "  </tbody>\n",
       "</table>\n",
       "</div>"
      ],
      "text/plain": [
       "    Borough        Neighborhood                        ID               Name  \\\n",
       "0     Bronx  University Heights  4c2f8b1b7cc0c9b6a1eaeb9a    Accra Resturant   \n",
       "1     Bronx  University Heights  4cb2beaadedbef3bca7c9d40  Papaye Restaurant   \n",
       "2     Bronx             Fordham  4cb2beaadedbef3bca7c9d40  Papaye Restaurant   \n",
       "3     Bronx             Belmont  4cb2beaadedbef3bca7c9d40  Papaye Restaurant   \n",
       "4  Brooklyn       Crown Heights  51d4d2cc454a777ed5a76c57       Cafe Rue Dix   \n",
       "\n",
       "   Likes  Rating  Tips  \n",
       "0      9     7.3     3  \n",
       "1     11     7.5     3  \n",
       "2     11     7.5     3  \n",
       "3     11     7.5     3  \n",
       "4    201     8.4    59  "
      ]
     },
     "execution_count": 31,
     "metadata": {},
     "output_type": "execute_result"
    }
   ],
   "source": [
    "african_rest_stats_ny_csv.head()"
   ]
  },
  {
   "cell_type": "code",
   "execution_count": 32,
   "metadata": {},
   "outputs": [
    {
     "data": {
      "text/plain": [
       "(13, 7)"
      ]
     },
     "execution_count": 32,
     "metadata": {},
     "output_type": "execute_result"
    }
   ],
   "source": [
    "african_rest_stats_ny_csv.shape"
   ]
  },
  {
   "cell_type": "code",
   "execution_count": 33,
   "metadata": {},
   "outputs": [
    {
     "name": "stdout",
     "output_type": "stream",
     "text": [
      "<class 'pandas.core.frame.DataFrame'>\n",
      "RangeIndex: 13 entries, 0 to 12\n",
      "Data columns (total 7 columns):\n",
      "Borough         13 non-null object\n",
      "Neighborhood    13 non-null object\n",
      "ID              13 non-null object\n",
      "Name            13 non-null object\n",
      "Likes           13 non-null object\n",
      "Rating          13 non-null float64\n",
      "Tips            13 non-null object\n",
      "dtypes: float64(1), object(6)\n",
      "memory usage: 856.0+ bytes\n"
     ]
    }
   ],
   "source": [
    "african_rest_stats_ny.info()"
   ]
  },
  {
   "cell_type": "code",
   "execution_count": 34,
   "metadata": {},
   "outputs": [],
   "source": [
    "# Covert 'Likes' and 'Tips' into float\n",
    "\n",
    "african_rest_stats_ny['Likes']=african_rest_stats_ny['Likes'].astype('float64')"
   ]
  },
  {
   "cell_type": "code",
   "execution_count": 35,
   "metadata": {},
   "outputs": [],
   "source": [
    "african_rest_stats_ny['Tips']=african_rest_stats_ny['Tips'].astype('float64')"
   ]
  },
  {
   "cell_type": "code",
   "execution_count": 36,
   "metadata": {},
   "outputs": [
    {
     "name": "stdout",
     "output_type": "stream",
     "text": [
      "<class 'pandas.core.frame.DataFrame'>\n",
      "RangeIndex: 13 entries, 0 to 12\n",
      "Data columns (total 7 columns):\n",
      "Borough         13 non-null object\n",
      "Neighborhood    13 non-null object\n",
      "ID              13 non-null object\n",
      "Name            13 non-null object\n",
      "Likes           13 non-null float64\n",
      "Rating          13 non-null float64\n",
      "Tips            13 non-null float64\n",
      "dtypes: float64(3), object(4)\n",
      "memory usage: 856.0+ bytes\n"
     ]
    }
   ],
   "source": [
    "african_rest_stats_ny.info()"
   ]
  },
  {
   "cell_type": "markdown",
   "metadata": {},
   "source": [
    "### The above result shows that 'Likes,' 'Ratings,' and 'Tips' are now float and can be manipulated mathematically"
   ]
  },
  {
   "cell_type": "code",
   "execution_count": 37,
   "metadata": {},
   "outputs": [
    {
     "data": {
      "text/plain": [
       "Borough                         Brooklyn\n",
       "Neighborhood               Crown Heights\n",
       "ID              51d4d2cc454a777ed5a76c57\n",
       "Name                        Cafe Rue Dix\n",
       "Likes                                201\n",
       "Rating                               8.4\n",
       "Tips                                  59\n",
       "Name: 4, dtype: object"
      ]
     },
     "execution_count": 37,
     "metadata": {},
     "output_type": "execute_result"
    }
   ],
   "source": [
    "# Restaurant with maximum Likes\n",
    "\n",
    "african_rest_stats_ny.iloc[african_rest_stats_ny['Likes'].idxmax()]"
   ]
  },
  {
   "cell_type": "code",
   "execution_count": 38,
   "metadata": {},
   "outputs": [
    {
     "data": {
      "text/plain": [
       "Borough                            Bronx\n",
       "Neighborhood          University Heights\n",
       "ID              4c2f8b1b7cc0c9b6a1eaeb9a\n",
       "Name                     Accra Resturant\n",
       "Likes                                  9\n",
       "Rating                               7.3\n",
       "Tips                                   3\n",
       "Name: 0, dtype: object"
      ]
     },
     "execution_count": 38,
     "metadata": {},
     "output_type": "execute_result"
    }
   ],
   "source": [
    "# Restaurant with minimum Likes\n",
    "\n",
    "african_rest_stats_ny.iloc[african_rest_stats_ny['Likes'].idxmin()]"
   ]
  },
  {
   "cell_type": "code",
   "execution_count": 39,
   "metadata": {},
   "outputs": [
    {
     "data": {
      "text/plain": [
       "Borough                        Manhattan\n",
       "Neighborhood            Hamilton Heights\n",
       "ID              53e01975498e78c0915599bf\n",
       "Name                 Ponty Bistro Harlem\n",
       "Likes                                105\n",
       "Rating                               8.6\n",
       "Tips                                  30\n",
       "Name: 5, dtype: object"
      ]
     },
     "execution_count": 39,
     "metadata": {},
     "output_type": "execute_result"
    }
   ],
   "source": [
    "# Restaurant with maximum Rating\n",
    "\n",
    "african_rest_stats_ny.iloc[african_rest_stats_ny['Rating'].idxmax()]"
   ]
  },
  {
   "cell_type": "code",
   "execution_count": 40,
   "metadata": {},
   "outputs": [
    {
     "data": {
      "text/plain": [
       "Borough                         Brooklyn\n",
       "Neighborhood               Highland Park\n",
       "ID              4b1eefb3f964a520c72124e3\n",
       "Name                        Festac Grill\n",
       "Likes                                  9\n",
       "Rating                                 6\n",
       "Tips                                  11\n",
       "Name: 12, dtype: object"
      ]
     },
     "execution_count": 40,
     "metadata": {},
     "output_type": "execute_result"
    }
   ],
   "source": [
    "# Restaurant with minimum Rating\n",
    "\n",
    "african_rest_stats_ny.iloc[african_rest_stats_ny['Rating'].idxmin()]"
   ]
  },
  {
   "cell_type": "code",
   "execution_count": 41,
   "metadata": {},
   "outputs": [
    {
     "data": {
      "text/plain": [
       "Borough                         Brooklyn\n",
       "Neighborhood               Crown Heights\n",
       "ID              51d4d2cc454a777ed5a76c57\n",
       "Name                        Cafe Rue Dix\n",
       "Likes                                201\n",
       "Rating                               8.4\n",
       "Tips                                  59\n",
       "Name: 4, dtype: object"
      ]
     },
     "execution_count": 41,
     "metadata": {},
     "output_type": "execute_result"
    }
   ],
   "source": [
    "# Restaurant with maximum Tips\n",
    "\n",
    "african_rest_stats_ny.iloc[african_rest_stats_ny['Tips'].idxmax()]"
   ]
  },
  {
   "cell_type": "code",
   "execution_count": 42,
   "metadata": {},
   "outputs": [
    {
     "data": {
      "text/plain": [
       "Borough                            Bronx\n",
       "Neighborhood          University Heights\n",
       "ID              4c2f8b1b7cc0c9b6a1eaeb9a\n",
       "Name                     Accra Resturant\n",
       "Likes                                  9\n",
       "Rating                               7.3\n",
       "Tips                                   3\n",
       "Name: 0, dtype: object"
      ]
     },
     "execution_count": 42,
     "metadata": {},
     "output_type": "execute_result"
    }
   ],
   "source": [
    "# Restaurant with minimum Tips\n",
    "\n",
    "african_rest_stats_ny.iloc[african_rest_stats_ny['Tips'].idxmin()]"
   ]
  },
  {
   "cell_type": "code",
   "execution_count": 43,
   "metadata": {},
   "outputs": [],
   "source": [
    "# Synthesize rating information per Neighborhood\n",
    "\n",
    "ny_neighborhood_stats=african_rest_stats_ny.groupby('Neighborhood',as_index=False).mean()[['Neighborhood','Rating']]\n",
    "ny_neighborhood_stats.columns=['Neighborhood','Average Rating']"
   ]
  },
  {
   "cell_type": "code",
   "execution_count": 44,
   "metadata": {},
   "outputs": [
    {
     "data": {
      "text/html": [
       "<div>\n",
       "<style scoped>\n",
       "    .dataframe tbody tr th:only-of-type {\n",
       "        vertical-align: middle;\n",
       "    }\n",
       "\n",
       "    .dataframe tbody tr th {\n",
       "        vertical-align: top;\n",
       "    }\n",
       "\n",
       "    .dataframe thead th {\n",
       "        text-align: right;\n",
       "    }\n",
       "</style>\n",
       "<table border=\"1\" class=\"dataframe\">\n",
       "  <thead>\n",
       "    <tr style=\"text-align: right;\">\n",
       "      <th></th>\n",
       "      <th>Neighborhood</th>\n",
       "      <th>Average Rating</th>\n",
       "    </tr>\n",
       "  </thead>\n",
       "  <tbody>\n",
       "    <tr>\n",
       "      <th>3</th>\n",
       "      <td>East Harlem</td>\n",
       "      <td>8.60</td>\n",
       "    </tr>\n",
       "    <tr>\n",
       "      <th>5</th>\n",
       "      <td>Hamilton Heights</td>\n",
       "      <td>8.60</td>\n",
       "    </tr>\n",
       "    <tr>\n",
       "      <th>2</th>\n",
       "      <td>Crown Heights</td>\n",
       "      <td>8.40</td>\n",
       "    </tr>\n",
       "    <tr>\n",
       "      <th>1</th>\n",
       "      <td>Central Harlem</td>\n",
       "      <td>7.75</td>\n",
       "    </tr>\n",
       "    <tr>\n",
       "      <th>0</th>\n",
       "      <td>Belmont</td>\n",
       "      <td>7.50</td>\n",
       "    </tr>\n",
       "    <tr>\n",
       "      <th>4</th>\n",
       "      <td>Fordham</td>\n",
       "      <td>7.50</td>\n",
       "    </tr>\n",
       "    <tr>\n",
       "      <th>8</th>\n",
       "      <td>University Heights</td>\n",
       "      <td>7.40</td>\n",
       "    </tr>\n",
       "    <tr>\n",
       "      <th>7</th>\n",
       "      <td>Mount Hope</td>\n",
       "      <td>7.30</td>\n",
       "    </tr>\n",
       "    <tr>\n",
       "      <th>6</th>\n",
       "      <td>Highland Park</td>\n",
       "      <td>6.00</td>\n",
       "    </tr>\n",
       "  </tbody>\n",
       "</table>\n",
       "</div>"
      ],
      "text/plain": [
       "         Neighborhood  Average Rating\n",
       "3         East Harlem            8.60\n",
       "5    Hamilton Heights            8.60\n",
       "2       Crown Heights            8.40\n",
       "1      Central Harlem            7.75\n",
       "0             Belmont            7.50\n",
       "4             Fordham            7.50\n",
       "8  University Heights            7.40\n",
       "7          Mount Hope            7.30\n",
       "6       Highland Park            6.00"
      ]
     },
     "execution_count": 44,
     "metadata": {},
     "output_type": "execute_result"
    }
   ],
   "source": [
    "ny_neighborhood_stats.sort_values(['Average Rating'],ascending=False).head(12)"
   ]
  },
  {
   "cell_type": "code",
   "execution_count": 45,
   "metadata": {},
   "outputs": [],
   "source": [
    "# Synthesize rating information per Borough\n",
    "\n",
    "ny_borough_stats=african_rest_stats_ny.groupby('Borough',as_index=False).mean()[['Borough','Rating']]\n",
    "ny_borough_stats.columns=['Borough','Average Rating']"
   ]
  },
  {
   "cell_type": "code",
   "execution_count": 46,
   "metadata": {},
   "outputs": [
    {
     "data": {
      "text/html": [
       "<div>\n",
       "<style scoped>\n",
       "    .dataframe tbody tr th:only-of-type {\n",
       "        vertical-align: middle;\n",
       "    }\n",
       "\n",
       "    .dataframe tbody tr th {\n",
       "        vertical-align: top;\n",
       "    }\n",
       "\n",
       "    .dataframe thead th {\n",
       "        text-align: right;\n",
       "    }\n",
       "</style>\n",
       "<table border=\"1\" class=\"dataframe\">\n",
       "  <thead>\n",
       "    <tr style=\"text-align: right;\">\n",
       "      <th></th>\n",
       "      <th>Borough</th>\n",
       "      <th>Average Rating</th>\n",
       "    </tr>\n",
       "  </thead>\n",
       "  <tbody>\n",
       "    <tr>\n",
       "      <th>2</th>\n",
       "      <td>Manhattan</td>\n",
       "      <td>8.033333</td>\n",
       "    </tr>\n",
       "    <tr>\n",
       "      <th>0</th>\n",
       "      <td>Bronx</td>\n",
       "      <td>7.420000</td>\n",
       "    </tr>\n",
       "    <tr>\n",
       "      <th>1</th>\n",
       "      <td>Brooklyn</td>\n",
       "      <td>7.200000</td>\n",
       "    </tr>\n",
       "  </tbody>\n",
       "</table>\n",
       "</div>"
      ],
      "text/plain": [
       "     Borough  Average Rating\n",
       "2  Manhattan        8.033333\n",
       "0      Bronx        7.420000\n",
       "1   Brooklyn        7.200000"
      ]
     },
     "execution_count": 46,
     "metadata": {},
     "output_type": "execute_result"
    }
   ],
   "source": [
    "ny_borough_stats.sort_values(['Average Rating'],ascending=False).head()"
   ]
  },
  {
   "cell_type": "code",
   "execution_count": 47,
   "metadata": {},
   "outputs": [
    {
     "data": {
      "image/png": "[encoded data removed]",
      "text/plain": [
       "<Figure size 1000x500 with 1 Axes>"
      ]
     },
     "metadata": {
      "needs_background": "light"
     },
     "output_type": "display_data"
    }
   ],
   "source": [
    "# Plot of bar chart to show Average Ranking per Borough\n",
    "\n",
    "plt.figure(figsize=(10,5), dpi = 100)\n",
    "plt.title('Average rating of African Restaurants per Borough')\n",
    "plt.xlabel('Borough', fontsize = 12)\n",
    "plt.ylabel('Average Rating', fontsize=12)\n",
    "african_rest_stats_ny.groupby('Borough').mean()['Rating'].plot(kind='bar', color = 'green')\n",
    "plt.legend()\n",
    "\n",
    "plt.show()"
   ]
  },
  {
   "cell_type": "markdown",
   "metadata": {},
   "source": [
    "### For this project, neighborhoods with average rating greater or equal 7.0 will be visualize on the map"
   ]
  },
  {
   "cell_type": "code",
   "execution_count": 48,
   "metadata": {},
   "outputs": [],
   "source": [
    "ny_neighborhood_stats=ny_neighborhood_stats[ny_neighborhood_stats['Average Rating']>=7.0]"
   ]
  },
  {
   "cell_type": "code",
   "execution_count": 49,
   "metadata": {},
   "outputs": [
    {
     "data": {
      "text/html": [
       "<div>\n",
       "<style scoped>\n",
       "    .dataframe tbody tr th:only-of-type {\n",
       "        vertical-align: middle;\n",
       "    }\n",
       "\n",
       "    .dataframe tbody tr th {\n",
       "        vertical-align: top;\n",
       "    }\n",
       "\n",
       "    .dataframe thead th {\n",
       "        text-align: right;\n",
       "    }\n",
       "</style>\n",
       "<table border=\"1\" class=\"dataframe\">\n",
       "  <thead>\n",
       "    <tr style=\"text-align: right;\">\n",
       "      <th></th>\n",
       "      <th>Neighborhood</th>\n",
       "      <th>Average Rating</th>\n",
       "    </tr>\n",
       "  </thead>\n",
       "  <tbody>\n",
       "    <tr>\n",
       "      <th>0</th>\n",
       "      <td>Belmont</td>\n",
       "      <td>7.50</td>\n",
       "    </tr>\n",
       "    <tr>\n",
       "      <th>1</th>\n",
       "      <td>Central Harlem</td>\n",
       "      <td>7.75</td>\n",
       "    </tr>\n",
       "    <tr>\n",
       "      <th>2</th>\n",
       "      <td>Crown Heights</td>\n",
       "      <td>8.40</td>\n",
       "    </tr>\n",
       "    <tr>\n",
       "      <th>3</th>\n",
       "      <td>East Harlem</td>\n",
       "      <td>8.60</td>\n",
       "    </tr>\n",
       "    <tr>\n",
       "      <th>4</th>\n",
       "      <td>Fordham</td>\n",
       "      <td>7.50</td>\n",
       "    </tr>\n",
       "    <tr>\n",
       "      <th>5</th>\n",
       "      <td>Hamilton Heights</td>\n",
       "      <td>8.60</td>\n",
       "    </tr>\n",
       "    <tr>\n",
       "      <th>7</th>\n",
       "      <td>Mount Hope</td>\n",
       "      <td>7.30</td>\n",
       "    </tr>\n",
       "    <tr>\n",
       "      <th>8</th>\n",
       "      <td>University Heights</td>\n",
       "      <td>7.40</td>\n",
       "    </tr>\n",
       "  </tbody>\n",
       "</table>\n",
       "</div>"
      ],
      "text/plain": [
       "         Neighborhood  Average Rating\n",
       "0             Belmont            7.50\n",
       "1      Central Harlem            7.75\n",
       "2       Crown Heights            8.40\n",
       "3         East Harlem            8.60\n",
       "4             Fordham            7.50\n",
       "5    Hamilton Heights            8.60\n",
       "7          Mount Hope            7.30\n",
       "8  University Heights            7.40"
      ]
     },
     "execution_count": 49,
     "metadata": {},
     "output_type": "execute_result"
    }
   ],
   "source": [
    "ny_neighborhood_stats"
   ]
  },
  {
   "cell_type": "code",
   "execution_count": 50,
   "metadata": {},
   "outputs": [],
   "source": [
    "# Merge Neighborhoods and coordinates\n",
    "\n",
    "ny_neighborhood_stats=pd.merge(ny_neighborhood_stats,new_york_data, on='Neighborhood')"
   ]
  },
  {
   "cell_type": "code",
   "execution_count": 51,
   "metadata": {},
   "outputs": [],
   "source": [
    "\n",
    "ny_neighborhood_stats=ny_neighborhood_stats[['Borough','Neighborhood','Latitude','Longitude','Average Rating']]"
   ]
  },
  {
   "cell_type": "code",
   "execution_count": 52,
   "metadata": {},
   "outputs": [
    {
     "data": {
      "text/html": [
       "<div>\n",
       "<style scoped>\n",
       "    .dataframe tbody tr th:only-of-type {\n",
       "        vertical-align: middle;\n",
       "    }\n",
       "\n",
       "    .dataframe tbody tr th {\n",
       "        vertical-align: top;\n",
       "    }\n",
       "\n",
       "    .dataframe thead th {\n",
       "        text-align: right;\n",
       "    }\n",
       "</style>\n",
       "<table border=\"1\" class=\"dataframe\">\n",
       "  <thead>\n",
       "    <tr style=\"text-align: right;\">\n",
       "      <th></th>\n",
       "      <th>Borough</th>\n",
       "      <th>Neighborhood</th>\n",
       "      <th>Latitude</th>\n",
       "      <th>Longitude</th>\n",
       "      <th>Average Rating</th>\n",
       "    </tr>\n",
       "  </thead>\n",
       "  <tbody>\n",
       "    <tr>\n",
       "      <th>0</th>\n",
       "      <td>Bronx</td>\n",
       "      <td>Belmont</td>\n",
       "      <td>40.857277</td>\n",
       "      <td>-73.888452</td>\n",
       "      <td>7.50</td>\n",
       "    </tr>\n",
       "    <tr>\n",
       "      <th>1</th>\n",
       "      <td>Manhattan</td>\n",
       "      <td>Central Harlem</td>\n",
       "      <td>40.815976</td>\n",
       "      <td>-73.943211</td>\n",
       "      <td>7.75</td>\n",
       "    </tr>\n",
       "    <tr>\n",
       "      <th>2</th>\n",
       "      <td>Brooklyn</td>\n",
       "      <td>Crown Heights</td>\n",
       "      <td>40.670829</td>\n",
       "      <td>-73.943291</td>\n",
       "      <td>8.40</td>\n",
       "    </tr>\n",
       "    <tr>\n",
       "      <th>3</th>\n",
       "      <td>Manhattan</td>\n",
       "      <td>East Harlem</td>\n",
       "      <td>40.792249</td>\n",
       "      <td>-73.944182</td>\n",
       "      <td>8.60</td>\n",
       "    </tr>\n",
       "    <tr>\n",
       "      <th>4</th>\n",
       "      <td>Bronx</td>\n",
       "      <td>Fordham</td>\n",
       "      <td>40.860997</td>\n",
       "      <td>-73.896427</td>\n",
       "      <td>7.50</td>\n",
       "    </tr>\n",
       "    <tr>\n",
       "      <th>5</th>\n",
       "      <td>Manhattan</td>\n",
       "      <td>Hamilton Heights</td>\n",
       "      <td>40.823604</td>\n",
       "      <td>-73.949688</td>\n",
       "      <td>8.60</td>\n",
       "    </tr>\n",
       "    <tr>\n",
       "      <th>6</th>\n",
       "      <td>Bronx</td>\n",
       "      <td>Mount Hope</td>\n",
       "      <td>40.848842</td>\n",
       "      <td>-73.908299</td>\n",
       "      <td>7.30</td>\n",
       "    </tr>\n",
       "    <tr>\n",
       "      <th>7</th>\n",
       "      <td>Bronx</td>\n",
       "      <td>University Heights</td>\n",
       "      <td>40.855727</td>\n",
       "      <td>-73.910416</td>\n",
       "      <td>7.40</td>\n",
       "    </tr>\n",
       "  </tbody>\n",
       "</table>\n",
       "</div>"
      ],
      "text/plain": [
       "     Borough        Neighborhood   Latitude  Longitude  Average Rating\n",
       "0      Bronx             Belmont  40.857277 -73.888452            7.50\n",
       "1  Manhattan      Central Harlem  40.815976 -73.943211            7.75\n",
       "2   Brooklyn       Crown Heights  40.670829 -73.943291            8.40\n",
       "3  Manhattan         East Harlem  40.792249 -73.944182            8.60\n",
       "4      Bronx             Fordham  40.860997 -73.896427            7.50\n",
       "5  Manhattan    Hamilton Heights  40.823604 -73.949688            8.60\n",
       "6      Bronx          Mount Hope  40.848842 -73.908299            7.30\n",
       "7      Bronx  University Heights  40.855727 -73.910416            7.40"
      ]
     },
     "execution_count": 52,
     "metadata": {},
     "output_type": "execute_result"
    }
   ],
   "source": [
    "ny_neighborhood_stats"
   ]
  },
  {
   "cell_type": "code",
   "execution_count": 53,
   "metadata": {},
   "outputs": [],
   "source": [
    "# create map and display the locations\n",
    "\n",
    "ny_map = folium.Map(location=geo_location('New York'), zoom_start=12)"
   ]
  },
  {
   "cell_type": "code",
   "execution_count": 54,
   "metadata": {},
   "outputs": [],
   "source": [
    "incidents = folium.map.FeatureGroup()\n",
    "\n",
    "for lat, lng, in ny_neighborhood_stats[['Latitude','Longitude']].values:\n",
    "    incidents.add_child(\n",
    "        folium.CircleMarker(\n",
    "            [lat, lng],\n",
    "            radius=10, \n",
    "            color='brown',\n",
    "            fill=True,\n",
    "            fill_color='purple',\n",
    "            fill_opacity=0.6\n",
    "        )\n",
    "    )"
   ]
  },
  {
   "cell_type": "code",
   "execution_count": 55,
   "metadata": {},
   "outputs": [],
   "source": [
    "# labels and markers\n",
    "\n",
    "\n",
    "ny_neighborhood_stats['Label']=ny_neighborhood_stats['Neighborhood']+', '+ny_neighborhood_stats['Borough']+'('+ny_neighborhood_stats['Average Rating'].map(str)+')'"
   ]
  },
  {
   "cell_type": "code",
   "execution_count": 56,
   "metadata": {},
   "outputs": [
    {
     "data": {
      "text/html": [
       "<div style=\"width:100%;\"><div style=\"position:relative;width:100%;height:0;padding-bottom:60%;\"><iframe src=\"data:text/html;charset=utf-8;base64,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\" style=\"position:absolute;width:100%;height:100%;left:0;top:0;border:none !important;\" allowfullscreen webkitallowfullscreen mozallowfullscreen></iframe></div></div>"
      ],
      "text/plain": [
       "<folium.folium.Map at 0x2d004c2ef98>"
      ]
     },
     "execution_count": 56,
     "metadata": {},
     "output_type": "execute_result"
    }
   ],
   "source": [
    "for lat, lng, label in ny_neighborhood_stats[['Latitude','Longitude','Label']].values:\n",
    "    folium.Marker([lat, lng], popup=label).add_to(ny_map)        \n",
    "\n",
    "ny_map.add_child(incidents)"
   ]
  },
  {
   "cell_type": "code",
   "execution_count": 62,
   "metadata": {},
   "outputs": [],
   "source": [
    "# New York Map\n",
    "\n",
    "ny_map = folium.Map(location=geo_location('New York'), zoom_start=12)\n",
    "ny_geo = r'C:/nyu_2451_34572-geojson.json'\n",
    "\n",
    "ny_map.choropleth(\n",
    "    geo_data=ny_geo,\n",
    "    data=ny_borough_stats,\n",
    "    columns=['Borough', 'Average Rating'],\n",
    "    key_on='feature.properties.boro_name',\n",
    "    fill_color='YlOrRd', \n",
    "    fill_opacity=0.6, \n",
    "    line_opacity=0.2,\n",
    "    legend_name='Average Rating'\n",
    ")\n",
    "\n",
    "ny_map.save('borough_rating.html')"
   ]
  },
  {
   "cell_type": "code",
   "execution_count": 63,
   "metadata": {},
   "outputs": [
    {
     "data": {
      "text/html": [
       "<div style=\"width:100%;\"><div style=\"position:relative;width:100%;height:0;padding-bottom:60%;\"><iframe src=\"data:text/html;charset=utf-8;base64,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\" style=\"position:absolute;width:100%;height:100%;left:0;top:0;border:none !important;\" allowfullscreen webkitallowfullscreen mozallowfullscreen></iframe></div></div>"
      ],
      "text/plain": [
       "<folium.folium.Map at 0x2d0062cad68>"
      ]
     },
     "execution_count": 63,
     "metadata": {},
     "output_type": "execute_result"
    }
   ],
   "source": [
    "# New York Map output\n",
    "\n",
    "ny_map = folium.Map(location=geo_location('New York'), zoom_start=12)\n",
    "ny_geo = r'C:/nyu_2451_34572-geojson.json'\n",
    "\n",
    "ny_map.choropleth(\n",
    "    geo_data=ny_geo,\n",
    "    data=ny_borough_stats,\n",
    "    columns=['Borough', 'Average Rating'],\n",
    "    key_on='feature.properties.boro_name',\n",
    "    fill_color='YlOrRd', \n",
    "    fill_opacity=0.6, \n",
    "    line_opacity=0.2,\n",
    "    legend_name='Average Rating'\n",
    ")\n",
    "\n",
    "ny_map"
   ]
  },
  {
   "cell_type": "markdown",
   "metadata": {},
   "source": [
    "### Summary and conclusion"
   ]
  },
  {
   "cell_type": "markdown",
   "metadata": {},
   "source": [
    "The objectives of the projects include the visualization African restaurants in New York City to make it easy for both African residents and tourists to locate, information about the best rated African restaurant(s) in New York City, information about the the areas with more concentration of African restaurants, and information about the areas with a few or no African Restaurants. The above analyses presented us with enough information to meet these objectives. From the results, it is surprising to see that only 13 African restaurants were captured in New York City. Another surprise is that Queens Borough that has 80 Neighborhoods did not have an African Restaurant. \t\n",
    "A major limitation of this project is that data to obtain African restaurant information was sourced only from Foursquare. However, the process used for this study offer a coordinated approach to solve data-driven business problems. Therefore, African restaurants that are not on the radar needs to make their data available to promote their businesses and help customers locate their venues. Furthermore, this project discovered that:\n",
    "•\tManhattan has the largest number of African restaurant, with a total of six (6) restaurants,\n",
    "•\tBronx has the 2nd largest number of African restaurant, with a total of five (5) restaurants,\n",
    "•\tBrookly has only 2 African restaurants, \n",
    "•\tQueens and Staten Island has no African Restaurants,\n",
    "•\tOnly nine out of 306 neighborhoods in New York City has African Restaurants,\n",
    "•\tCentral Harlem has the largest number of African restaurant, with a total of six (4) restaurants, and\n",
    "•\tThe restaurant with the most “likes” is Café Rue Dix – located in Crown Heights Neighborhood on Brooklyn.\n",
    "\n",
    "It will be interesting to explore this in the future to compare the currents findings and see if there is any improvement in the numbers of restaurants and other factors.\n"
   ]
  },
  {
   "cell_type": "code",
   "execution_count": null,
   "metadata": {},
   "outputs": [],
   "source": []
  }
 ],
 "metadata": {
  "kernelspec": {
   "display_name": "Python 3",
   "language": "python",
   "name": "python3"
  },
  "language_info": {
   "codemirror_mode": {
    "name": "ipython",
    "version": 3
   },
   "file_extension": ".py",
   "mimetype": "text/x-python",
   "name": "python",
   "nbconvert_exporter": "python",
   "pygments_lexer": "ipython3",
   "version": "3.7.3"
  }
 },
 "nbformat": 4,
 "nbformat_minor": 2
}
